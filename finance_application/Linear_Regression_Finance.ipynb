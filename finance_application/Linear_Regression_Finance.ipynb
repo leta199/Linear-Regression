{
 "cells": [
  {
   "cell_type": "markdown",
   "id": "51cc367d",
   "metadata": {},
   "source": [
    "## CHAPTER #2 - HANDLING DATA "
   ]
  },
  {
   "cell_type": "markdown",
   "id": "f0effb3d",
   "metadata": {},
   "source": [
    "## Importing dependencies "
   ]
  },
  {
   "cell_type": "code",
   "execution_count": null,
   "id": "267ce3fd",
   "metadata": {},
   "outputs": [],
   "source": [
    "# Importing necessary packages \n",
    "%pip install pandas \n",
    "%pip install numpy\n",
    "%pip install matplotlib\n",
    "%pip install scikitlearn"
   ]
  },
  {
   "cell_type": "code",
   "execution_count": null,
   "id": "019d2bff",
   "metadata": {},
   "outputs": [],
   "source": [
    "import numpy as np \n",
    "import matplotlib as mpl\n",
    "import pandas as pd\n",
    "from matplotlib import pyplot as plt"
   ]
  },
  {
   "cell_type": "markdown",
   "id": "e9857cc6",
   "metadata": {},
   "source": [
    "## FINANCE DATA \n",
    "The following datasets provide metrics partitioned by market capitalization, price, volatility, and turnover. The stock market activity metrics are partitioned by decile and the ETP metrics by quartile. \n",
    "\n",
    "I want to look into how cancellation rate (cancel to trade) is affected by stock volatility.  \n",
    "I will look at different deciles  (the market capitilsation of 10 businesses) and the Market cap decile column as well as its Volatility to see how cancellation rate changes with volatility.   \n",
    "\n",
    "**Hypothesis**- I would hypothesise that the greater the volaitilty the greater the rate of cancellation. \n",
    "\n",
    "In our data schema the following are defined:  \n",
    "**Market Cap  Decile(n)** - what is the decile_cancel_to_trade (number of cancelled trades/ number of successful trades) for that capitalisation at that date. \n",
    "-  will be renamed to \"Cancellation rate\".    \n",
    "                        \n",
    "\n",
    "**Volatility Decile(n)** - the amount of statistical variation within each stock decile (e.g decile 9) as that date. \n",
    "- will be renamed to \"Volatility\""
   ]
  },
  {
   "cell_type": "markdown",
   "id": "9a7bc71c",
   "metadata": {},
   "source": [
    "## Can we predict the the cancelllation rate of a stock based on its volatility?\n",
    "We will use linear regression to find out."
   ]
  },
  {
   "cell_type": "code",
   "execution_count": null,
   "id": "8412bb2f",
   "metadata": {},
   "outputs": [],
   "source": [
    "decile_path= \"/Users/admin/Desktop/Data Science Career /Python/Python Projects/Linear_Regression/data/decile_cancel_to_trade_stock.csv\"\n",
    "#Saving path name as variable for read csv argument \n"
   ]
  },
  {
   "cell_type": "code",
   "execution_count": null,
   "id": "0b27a6bd",
   "metadata": {},
   "outputs": [],
   "source": [
    "decile_to_cancel_raw=pd.read_csv(decile_path) #importing file as a pandas dataframe"
   ]
  },
  {
   "cell_type": "code",
   "execution_count": null,
   "id": "a3e005a9",
   "metadata": {},
   "outputs": [],
   "source": [
    "decile_to_cancel_raw.head()\n",
    "decile_to_cancel_raw.tail()                   #insight into what our data looks like "
   ]
  },
  {
   "cell_type": "markdown",
   "id": "389434b5",
   "metadata": {},
   "source": [
    "## EXPLORATORY DATA ANALYSIS AND DATA PRE-PROCESSING\n"
   ]
  },
  {
   "cell_type": "markdown",
   "id": "7d4f3cb3",
   "metadata": {},
   "source": [
    "I will utilise exploratory data analysis (EDA) to identify which decile has the most linear pattern in order to utilise my linear regression model.  \n",
    "This is to isolate only volatility and cancellation features for one set of independent and dependent variables. \n",
    "\n",
    "### ASSUMPTIONS OF LINEAR REGRESSION\n",
    "Let us investigate decile_1 to see if it is a good candidate to be modelled by linear regression. \n",
    "For this to be true, there must be:\n",
    "1) Strong negative or positive correlation\n",
    "2) Linearity in the data points\n",
    "3) Strong homoscedacity (data points maintian similar deviation throughtout all values of the independent variable)\n",
    "4) Normality of errors"
   ]
  },
  {
   "cell_type": "markdown",
   "id": "7d0e6cfa",
   "metadata": {},
   "source": [
    "#### Decile 1 and Linear Regression"
   ]
  },
  {
   "cell_type": "code",
   "execution_count": null,
   "id": "f7df78df",
   "metadata": {},
   "outputs": [],
   "source": [
    "#Extracting features of market cap decile 1 \n",
    "#independent variable = volatility decile1 (deviation in the stock prices  in this decile for each date)\n",
    "#dependent varaible = market cap decile1 (the cancel to trade of stock each date for groups of 10 businesses in the lowest market capitalisation)\n",
    "decile_1 = decile_to_cancel_raw[[\"Market Cap Decile1\",\"Volatility Decile1\"]] "
   ]
  },
  {
   "cell_type": "code",
   "execution_count": null,
   "id": "d4c61db5",
   "metadata": {},
   "outputs": [],
   "source": [
    "decile_1.head() #what does our data look like"
   ]
  },
  {
   "cell_type": "code",
   "execution_count": null,
   "id": "076def21",
   "metadata": {},
   "outputs": [],
   "source": [
    "decile_1 = decile_1.rename(columns={'Market Cap Decile1':'Cancellation rate','Volatility Decile1':'Volatility'})\n",
    "#renaming columns since we know we are in decile 1 of the decile_cancel_to_trade file"
   ]
  },
  {
   "cell_type": "markdown",
   "id": "5fd2b4ea",
   "metadata": {},
   "source": [
    "## Does decile 1 fit our assumptions?\n",
    "Let us see if our data for decile 1 fits our assumptions.    \n",
    "To test this, I will make a basic plot of the two features."
   ]
  },
  {
   "cell_type": "markdown",
   "id": "3dc0327c",
   "metadata": {},
   "source": [
    "### Linearity\n",
    "Plot our indepdent variable vs depedent variable as a scatterplot "
   ]
  },
  {
   "cell_type": "code",
   "execution_count": null,
   "id": "54d494e2",
   "metadata": {},
   "outputs": [],
   "source": [
    "x_1= decile_1[['Cancellation rate']] #assigning columns to the variable x\n",
    "y_1 = decile_1[['Volatility']]        #assigning columns to the variable y"
   ]
  },
  {
   "cell_type": "code",
   "execution_count": null,
   "id": "e5f70bbc",
   "metadata": {},
   "outputs": [],
   "source": [
    "plot_linear = plt.scatter(y_1, x_1) #scatter plot of our two features for deile 1"
   ]
  },
  {
   "cell_type": "markdown",
   "id": "8bd63aba",
   "metadata": {},
   "source": [
    "From this plot we can see a few key details, namely: \n",
    "1) Our data has a few outliers.  \n",
    "2) Our data does follow a linear relationship with most values condensed around the centre point of the volatility scale.  \n",
    "3) The linearity is present but does not have a strong gradient meaning the volatility in decile 1 does not have much predictive power in regards to the cancellation rate. I will explore  different features for this model i.e different deciles. "
   ]
  },
  {
   "cell_type": "markdown",
   "id": "9a09ca9b",
   "metadata": {},
   "source": [
    "#### Decile 9 and Linear Regression"
   ]
  },
  {
   "cell_type": "code",
   "execution_count": null,
   "id": "b797cd88",
   "metadata": {},
   "outputs": [],
   "source": [
    "#Extracting features of market cap decile 1 \n",
    "decile_7 = decile_to_cancel_raw[[\"Market Cap Decile7\",\"Volatility Decile7\"]] "
   ]
  },
  {
   "cell_type": "code",
   "execution_count": null,
   "id": "601607ad",
   "metadata": {},
   "outputs": [],
   "source": [
    "y_2 = decile_7[['Market Cap Decile7']] #assigning columns to the variable x\n",
    "x_2 = decile_7[['Volatility Decile7']] #assigning columns to the variable x"
   ]
  },
  {
   "cell_type": "code",
   "execution_count": null,
   "id": "8f46a485",
   "metadata": {},
   "outputs": [],
   "source": [
    "plot_linear = plt.scatter(x_2, y_2) #scatter plot of our two features for decile 9"
   ]
  },
  {
   "cell_type": "markdown",
   "id": "f9eba6dc",
   "metadata": {},
   "source": [
    "From this plot we can see that:\n",
    "1) There is a strong positive linear relationship, therefore volatililty does have predictive power for cancellation rates. \n",
    "2) There is heteroscedacity in the raw data, therefore we may need to apply some kind of transformation to the data but I will make the regression model and then check for homoscedacity in the residuals. \n",
    "3) Interetsing though since this high heteroscedcaity indicates that as stock get more volatile purchasing decisions become more extreme. "
   ]
  },
  {
   "cell_type": "code",
   "execution_count": null,
   "id": "07a54fa5",
   "metadata": {},
   "outputs": [],
   "source": [
    "decile_7 = decile_7.rename(columns={'Market Cap Decile7':'Cancellation rate','Volatility Decile7':'Volatility'})\n",
    "#renaming columns since we know we are in decile 9 of the cancel_to_trade file"
   ]
  },
  {
   "cell_type": "code",
   "execution_count": null,
   "id": "d15b695c",
   "metadata": {},
   "outputs": [],
   "source": [
    "plot_box = plt.boxplot(x_2) #creating a boxplot of our independent variable"
   ]
  },
  {
   "cell_type": "code",
   "execution_count": null,
   "id": "c4a37975",
   "metadata": {},
   "outputs": [],
   "source": [
    "plot_box = plt.boxplot(y_2) #creating a boxplot of our dependent variable"
   ]
  },
  {
   "cell_type": "markdown",
   "id": "e9431470",
   "metadata": {},
   "source": [
    "### Missing Values "
   ]
  },
  {
   "cell_type": "code",
   "execution_count": null,
   "id": "a5f37594",
   "metadata": {},
   "outputs": [],
   "source": [
    "missing_values = decile_7.isnull().sum()\n",
    "print(missing_values)\n",
    "#No missing values in the data "
   ]
  },
  {
   "cell_type": "markdown",
   "id": "51bc487a",
   "metadata": {},
   "source": [
    "From these plots we can see the presence of:\n",
    "1) A significant number of outliers outside the maximum range of the dataset.\n",
    "2) We will use the interquartile range method to impute these values."
   ]
  },
  {
   "cell_type": "markdown",
   "id": "28f083b8",
   "metadata": {},
   "source": [
    "## OUTLIER REMOVAL \n",
    "I will use the method of removing values above using upper and lower bounds based on quartiles. "
   ]
  },
  {
   "cell_type": "code",
   "execution_count": null,
   "id": "5ec9b786",
   "metadata": {},
   "outputs": [],
   "source": [
    "#Step 1- compute Q1 and Q3\n",
    "#Cancellation rates \n",
    "Q1C = decile_7['Cancellation rate'].quantile(0.25) #quartile 1 of cancellation rates \n",
    "Q3C = decile_7['Cancellation rate'].quantile(0.75) ##quartile 3 of cancellation rates \n",
    "print(Q1C)\n",
    "print(Q3C)\n",
    "\n",
    "\n"
   ]
  },
  {
   "cell_type": "code",
   "execution_count": null,
   "id": "5e5ed295",
   "metadata": {},
   "outputs": [],
   "source": [
    "#Volatiltiy \n",
    "Q1V = decile_7['Volatility'].quantile(0.25)         #quartile 1 of volatility  \n",
    "Q3V = decile_7['Volatility'].quantile(0.75)         #quartile 3 of volatility  \n",
    "print(Q1V)\n",
    "print(Q3V)"
   ]
  },
  {
   "cell_type": "code",
   "execution_count": null,
   "id": "5e67d941",
   "metadata": {},
   "outputs": [],
   "source": [
    "#Step 2 - Compute IQR\n",
    "#Cancellation rate \n",
    "IQRC = Q3C - Q1C\n",
    "print(IQRC)"
   ]
  },
  {
   "cell_type": "code",
   "execution_count": null,
   "id": "b454be83",
   "metadata": {},
   "outputs": [],
   "source": [
    "#Volatility \n",
    "IQRV= Q3V -Q1V\n",
    "print(IQRV)"
   ]
  },
  {
   "cell_type": "code",
   "execution_count": null,
   "id": "f69c33e3",
   "metadata": {},
   "outputs": [],
   "source": [
    "#Step 3 - Find the upper bound and lower bound\n",
    "#Cancellation rate\n",
    "upper_b_Canc = Q3C + 1.5*IQRC\n",
    "print(upper_b_Canc)"
   ]
  },
  {
   "cell_type": "code",
   "execution_count": null,
   "id": "66ca90ca",
   "metadata": {},
   "outputs": [],
   "source": [
    "#Volatility \n",
    "upper_b_Vol = Q3V + 1.5*IQRV\n",
    "print(upper_b_Vol)"
   ]
  },
  {
   "cell_type": "code",
   "execution_count": null,
   "id": "85ce97ab",
   "metadata": {},
   "outputs": [],
   "source": [
    "#Number of outliers on upper end \n",
    "#Cancellation rate\n",
    "decile_7[decile_7['Cancellation rate'] > upper_b_Canc].count()\n"
   ]
  },
  {
   "cell_type": "code",
   "execution_count": null,
   "id": "93ccce97",
   "metadata": {},
   "outputs": [],
   "source": [
    "#Volatility\n",
    "decile_7[decile_7['Volatility'] > upper_b_Vol].count()\n",
    "print((69/3329)*100) #percentage of values to impute. Is not excessive ≈ 2%"
   ]
  },
  {
   "cell_type": "markdown",
   "id": "50528f9a",
   "metadata": {},
   "source": [
    "### WINSORISATION \n",
    "A method of dealing with systematic outliers to maintain distribution of data. \n",
    "\n",
    "Through our EDA, I learned that our outliers are only present in  the upper tail , truncating them would remove information from the data and make our model have \n",
    "lower predictive power at the high end.   \n",
    "Therefore I will use Winsorisation to cap them  to the max of Q3 + 1.5*IQR - https://www.datacamp.com/tutorial/winsorized-mean"
   ]
  },
  {
   "cell_type": "code",
   "execution_count": null,
   "id": "0433763b",
   "metadata": {},
   "outputs": [],
   "source": [
    "\n",
    "#Cancellation rate \n",
    "decile_7['Cancellation rate'] = decile_7['Cancellation rate'].clip (upper = upper_b_Canc) #winsorising cancellation rate \n",
    "decile_7[decile_7['Cancellation rate'] > upper_b_Canc].count()  \n"
   ]
  },
  {
   "cell_type": "code",
   "execution_count": null,
   "id": "8e1cd9d4",
   "metadata": {},
   "outputs": [],
   "source": [
    "#Volatility\n",
    "decile_7['Volatility'] = decile_7['Volatility'].clip (upper = upper_b_Vol)                 #winsorising volatility  \n",
    "decile_7[decile_7['Volatility'] > upper_b_Vol].count()  "
   ]
  },
  {
   "cell_type": "code",
   "execution_count": null,
   "id": "b84447a6",
   "metadata": {},
   "outputs": [],
   "source": [
    "# New  values of x and y with Winsoration \n",
    "y_3 = decile_7[['Cancellation rate']]\n",
    "x_3 = decile_7[['Volatility']]"
   ]
  },
  {
   "cell_type": "code",
   "execution_count": null,
   "id": "788f6782",
   "metadata": {},
   "outputs": [],
   "source": [
    "plt.boxplot(x_3) #New boxplot of cancellation rate with Winsorisation"
   ]
  },
  {
   "cell_type": "code",
   "execution_count": null,
   "id": "0e715244",
   "metadata": {},
   "outputs": [],
   "source": [
    "plt.boxplot(y_3) #New boxplot of volatility with Winsorisation"
   ]
  },
  {
   "cell_type": "code",
   "execution_count": null,
   "id": "a52b6f07",
   "metadata": {},
   "outputs": [],
   "source": [
    "plt.hist(x_3)   #New histogram of Cancellation rate with Winsorisation"
   ]
  },
  {
   "cell_type": "code",
   "execution_count": null,
   "id": "6f2f7418",
   "metadata": {},
   "outputs": [],
   "source": [
    "plt.hist(y_3)   #New boxplot of Volatility with Winsorisation"
   ]
  },
  {
   "cell_type": "markdown",
   "id": "95779c56",
   "metadata": {},
   "source": [
    "Now that we have the pre-processed data with linearity and outliers handled we can  use our linear regression model."
   ]
  },
  {
   "cell_type": "markdown",
   "id": "e58167d4",
   "metadata": {},
   "source": [
    "### LINEAR REGRESSION MODELLING "
   ]
  },
  {
   "cell_type": "code",
   "execution_count": null,
   "id": "4d464da4",
   "metadata": {},
   "outputs": [],
   "source": [
    "import sys\n",
    "sys.path.append('/Users/admin/Desktop/Data Science Career /Python/Python Projects/Linear_Regression')\n",
    "from model import LinearRegression\n"
   ]
  },
  {
   "cell_type": "code",
   "execution_count": null,
   "id": "2781cfe6",
   "metadata": {},
   "outputs": [],
   "source": [
    "finance_model = LinearRegression(0.0001, 10000)"
   ]
  },
  {
   "cell_type": "code",
   "execution_count": null,
   "id": "e14ca896",
   "metadata": {},
   "outputs": [],
   "source": [
    "#Converting data into pandas series \n",
    "x = decile_9['Cancellation rate']\n",
    "y = decile_9['Volatility']"
   ]
  },
  {
   "cell_type": "code",
   "execution_count": null,
   "id": "cb747fe8",
   "metadata": {},
   "outputs": [],
   "source": [
    "finance_model.vectorise_x(x)"
   ]
  },
  {
   "cell_type": "code",
   "execution_count": null,
   "id": "2f2d85eb",
   "metadata": {},
   "outputs": [],
   "source": [
    "finance_model.vectorise_y(y)"
   ]
  },
  {
   "cell_type": "code",
   "execution_count": null,
   "id": "c7eb5899",
   "metadata": {},
   "outputs": [],
   "source": [
    "finance_model.optimise()"
   ]
  },
  {
   "cell_type": "code",
   "execution_count": null,
   "id": "e1273760",
   "metadata": {},
   "outputs": [],
   "source": [
    "finance_model.residuals()"
   ]
  },
  {
   "cell_type": "code",
   "execution_count": null,
   "id": "1c26015b",
   "metadata": {},
   "outputs": [],
   "source": [
    "finance_model.plot_residuals()"
   ]
  },
  {
   "cell_type": "code",
   "execution_count": null,
   "id": "56f96e6e",
   "metadata": {},
   "outputs": [],
   "source": [
    "finance_model.rsquared()"
   ]
  },
  {
   "cell_type": "code",
   "execution_count": null,
   "id": "06f3a943",
   "metadata": {},
   "outputs": [],
   "source": [
    "finance_model.mse()"
   ]
  },
  {
   "cell_type": "code",
   "execution_count": null,
   "id": "32732416",
   "metadata": {},
   "outputs": [],
   "source": [
    "%pip install scikit-learn "
   ]
  },
  {
   "cell_type": "code",
   "execution_count": null,
   "id": "cca694f5",
   "metadata": {},
   "outputs": [],
   "source": [
    "from sk import LinearRegression as lr"
   ]
  },
  {
   "cell_type": "code",
   "execution_count": null,
   "id": "c0b91868",
   "metadata": {},
   "outputs": [],
   "source": []
  }
 ],
 "metadata": {
  "kernelspec": {
   "display_name": "Python (linreg)",
   "language": "python",
   "name": "linreg"
  },
  "language_info": {
   "codemirror_mode": {
    "name": "ipython",
    "version": 3
   },
   "file_extension": ".py",
   "mimetype": "text/x-python",
   "name": "python",
   "nbconvert_exporter": "python",
   "pygments_lexer": "ipython3",
   "version": "3.13.5"
  }
 },
 "nbformat": 4,
 "nbformat_minor": 5
}
