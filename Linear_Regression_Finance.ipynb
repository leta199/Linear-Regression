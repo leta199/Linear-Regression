{
 "cells": [
  {
   "cell_type": "markdown",
   "id": "51cc367d",
   "metadata": {},
   "source": [
    "## CHAPTER #2 - HANDLING DATA "
   ]
  },
  {
   "cell_type": "markdown",
   "id": "f0effb3d",
   "metadata": {},
   "source": [
    "## Importing dependencies "
   ]
  },
  {
   "cell_type": "code",
   "execution_count": 1,
   "id": "267ce3fd",
   "metadata": {},
   "outputs": [
    {
     "name": "stdout",
     "output_type": "stream",
     "text": [
      "Requirement already satisfied: pandas in /opt/miniconda3/lib/python3.13/site-packages (2.3.2)\n",
      "Requirement already satisfied: numpy>=1.26.0 in /opt/miniconda3/lib/python3.13/site-packages (from pandas) (2.3.3)\n",
      "Requirement already satisfied: python-dateutil>=2.8.2 in /opt/miniconda3/lib/python3.13/site-packages (from pandas) (2.9.0.post0)\n",
      "Requirement already satisfied: pytz>=2020.1 in /opt/miniconda3/lib/python3.13/site-packages (from pandas) (2025.2)\n",
      "Requirement already satisfied: tzdata>=2022.7 in /opt/miniconda3/lib/python3.13/site-packages (from pandas) (2025.2)\n",
      "Requirement already satisfied: six>=1.5 in /opt/miniconda3/lib/python3.13/site-packages (from python-dateutil>=2.8.2->pandas) (1.17.0)\n",
      "Note: you may need to restart the kernel to use updated packages.\n",
      "Requirement already satisfied: numpy in /opt/miniconda3/lib/python3.13/site-packages (2.3.3)\n",
      "Note: you may need to restart the kernel to use updated packages.\n",
      "Requirement already satisfied: matplotlib in /opt/miniconda3/lib/python3.13/site-packages (3.10.7)\n",
      "Requirement already satisfied: contourpy>=1.0.1 in /opt/miniconda3/lib/python3.13/site-packages (from matplotlib) (1.3.3)\n",
      "Requirement already satisfied: cycler>=0.10 in /opt/miniconda3/lib/python3.13/site-packages (from matplotlib) (0.12.1)\n",
      "Requirement already satisfied: fonttools>=4.22.0 in /opt/miniconda3/lib/python3.13/site-packages (from matplotlib) (4.60.1)\n",
      "Requirement already satisfied: kiwisolver>=1.3.1 in /opt/miniconda3/lib/python3.13/site-packages (from matplotlib) (1.4.9)\n",
      "Requirement already satisfied: numpy>=1.23 in /opt/miniconda3/lib/python3.13/site-packages (from matplotlib) (2.3.3)\n",
      "Requirement already satisfied: packaging>=20.0 in /opt/miniconda3/lib/python3.13/site-packages (from matplotlib) (24.2)\n",
      "Requirement already satisfied: pillow>=8 in /opt/miniconda3/lib/python3.13/site-packages (from matplotlib) (12.0.0)\n",
      "Requirement already satisfied: pyparsing>=3 in /opt/miniconda3/lib/python3.13/site-packages (from matplotlib) (3.2.5)\n",
      "Requirement already satisfied: python-dateutil>=2.7 in /opt/miniconda3/lib/python3.13/site-packages (from matplotlib) (2.9.0.post0)\n",
      "Requirement already satisfied: six>=1.5 in /opt/miniconda3/lib/python3.13/site-packages (from python-dateutil>=2.7->matplotlib) (1.17.0)\n",
      "Note: you may need to restart the kernel to use updated packages.\n",
      "\u001b[31mERROR: Could not find a version that satisfies the requirement scikitlearn (from versions: none)\u001b[0m\u001b[31m\n",
      "\u001b[0m\u001b[31mERROR: No matching distribution found for scikitlearn\u001b[0m\u001b[31m\n",
      "\u001b[0mNote: you may need to restart the kernel to use updated packages.\n"
     ]
    }
   ],
   "source": [
    "# Importing necessary packages \n",
    "%pip install pandas \n",
    "%pip install numpy\n",
    "%pip install matplotlib\n",
    "%pip install scikitlearn"
   ]
  },
  {
   "cell_type": "code",
   "execution_count": 2,
   "id": "019d2bff",
   "metadata": {},
   "outputs": [],
   "source": [
    "import numpy as np \n",
    "import matplotlib as mpl\n",
    "import pandas as pd\n",
    "from matplotlib import pyplot as plt"
   ]
  },
  {
   "cell_type": "markdown",
   "id": "e9857cc6",
   "metadata": {},
   "source": [
    "## FINANCE DATA \n",
    "The following datasets provide metrics partitioned by market capitalization, price, volatility, and turnover. The stock market activity metrics are partitioned by decile and the ETP metrics by quartile. \n",
    "\n",
    "I want to look into how cancellation rate (cancel to trade) is affected by stock volatility.  \n",
    "I will look at different deciles  (the market capitilsation of 10 businesses) and the Market cap decile column as well as its Volatility to see how cancellation rate changes with volatility.   \n",
    "\n",
    "**Hypothesis**- I would hypothesise that the greater the volaitilty the greater the rate of cancellation. \n",
    "\n",
    "In our data schema the following are defined:  \n",
    "**Market Cap  Decile(n)** - what is the decile_cancel_to_trade (number of cancelled trades/ number of successful trades) for that capitalisation at that date. \n",
    "-  will be renamed to \"Cancellation rate\".    \n",
    "                        \n",
    "\n",
    "**Volatility Decile(n)** - the amount of statistical variation within each stock decile (e.g decile 9) as that date. \n",
    "- will be renamed to \"Volatility\""
   ]
  },
  {
   "cell_type": "markdown",
   "id": "9a7bc71c",
   "metadata": {},
   "source": [
    "## Can we predict the the cancelllation rate of a stock based on its volatility?\n",
    "We will use linear regression to find out."
   ]
  },
  {
   "cell_type": "code",
   "execution_count": 3,
   "id": "8412bb2f",
   "metadata": {},
   "outputs": [],
   "source": [
    "decile_path= \"/Users/admin/Desktop/Data Science Career /Python/Python Projects/Linear regression from scratch /decile_quartile_2025_q1/decile_cancel_to_trade_stock.csv\"\n",
    "#Saving path name as variable for read csv argument "
   ]
  },
  {
   "cell_type": "code",
   "execution_count": 4,
   "id": "0b27a6bd",
   "metadata": {},
   "outputs": [],
   "source": [
    "decile_to_cancel_raw=pd.read_csv(decile_path) #importing file as a pandas dataframe"
   ]
  },
  {
   "cell_type": "code",
   "execution_count": 5,
   "id": "a3e005a9",
   "metadata": {},
   "outputs": [
    {
     "data": {
      "text/html": [
       "<div>\n",
       "<style scoped>\n",
       "    .dataframe tbody tr th:only-of-type {\n",
       "        vertical-align: middle;\n",
       "    }\n",
       "\n",
       "    .dataframe tbody tr th {\n",
       "        vertical-align: top;\n",
       "    }\n",
       "\n",
       "    .dataframe thead th {\n",
       "        text-align: right;\n",
       "    }\n",
       "</style>\n",
       "<table border=\"1\" class=\"dataframe\">\n",
       "  <thead>\n",
       "    <tr style=\"text-align: right;\">\n",
       "      <th></th>\n",
       "      <th>Date</th>\n",
       "      <th>Market Cap Decile1</th>\n",
       "      <th>Market Cap Decile2</th>\n",
       "      <th>Market Cap Decile3</th>\n",
       "      <th>Market Cap Decile4</th>\n",
       "      <th>Market Cap Decile5</th>\n",
       "      <th>Market Cap Decile6</th>\n",
       "      <th>Market Cap Decile7</th>\n",
       "      <th>Market Cap Decile8</th>\n",
       "      <th>Market Cap Decile9</th>\n",
       "      <th>...</th>\n",
       "      <th>Volatility Decile1</th>\n",
       "      <th>Volatility Decile2</th>\n",
       "      <th>Volatility Decile3</th>\n",
       "      <th>Volatility Decile4</th>\n",
       "      <th>Volatility Decile5</th>\n",
       "      <th>Volatility Decile6</th>\n",
       "      <th>Volatility Decile7</th>\n",
       "      <th>Volatility Decile8</th>\n",
       "      <th>Volatility Decile9</th>\n",
       "      <th>Volatility Decile10</th>\n",
       "    </tr>\n",
       "  </thead>\n",
       "  <tbody>\n",
       "    <tr>\n",
       "      <th>3324</th>\n",
       "      <td>20250325</td>\n",
       "      <td>4.783326</td>\n",
       "      <td>14.888196</td>\n",
       "      <td>11.480323</td>\n",
       "      <td>14.764069</td>\n",
       "      <td>13.289801</td>\n",
       "      <td>13.306751</td>\n",
       "      <td>14.715284</td>\n",
       "      <td>12.966304</td>\n",
       "      <td>13.312258</td>\n",
       "      <td>...</td>\n",
       "      <td>16.097937</td>\n",
       "      <td>14.899900</td>\n",
       "      <td>14.584242</td>\n",
       "      <td>13.637641</td>\n",
       "      <td>13.270905</td>\n",
       "      <td>13.167269</td>\n",
       "      <td>13.986714</td>\n",
       "      <td>15.655261</td>\n",
       "      <td>14.105550</td>\n",
       "      <td>8.213032</td>\n",
       "    </tr>\n",
       "    <tr>\n",
       "      <th>3325</th>\n",
       "      <td>20250326</td>\n",
       "      <td>5.106118</td>\n",
       "      <td>10.530869</td>\n",
       "      <td>12.197545</td>\n",
       "      <td>14.065950</td>\n",
       "      <td>15.047847</td>\n",
       "      <td>14.448051</td>\n",
       "      <td>14.025409</td>\n",
       "      <td>14.353923</td>\n",
       "      <td>13.332430</td>\n",
       "      <td>...</td>\n",
       "      <td>15.019312</td>\n",
       "      <td>17.710920</td>\n",
       "      <td>15.620423</td>\n",
       "      <td>14.403542</td>\n",
       "      <td>14.189633</td>\n",
       "      <td>13.421478</td>\n",
       "      <td>15.079622</td>\n",
       "      <td>15.078236</td>\n",
       "      <td>12.518201</td>\n",
       "      <td>9.636699</td>\n",
       "    </tr>\n",
       "    <tr>\n",
       "      <th>3326</th>\n",
       "      <td>20250327</td>\n",
       "      <td>7.089191</td>\n",
       "      <td>15.782369</td>\n",
       "      <td>13.707288</td>\n",
       "      <td>15.309875</td>\n",
       "      <td>14.922006</td>\n",
       "      <td>14.986312</td>\n",
       "      <td>14.524957</td>\n",
       "      <td>15.303156</td>\n",
       "      <td>13.520445</td>\n",
       "      <td>...</td>\n",
       "      <td>15.532377</td>\n",
       "      <td>19.344706</td>\n",
       "      <td>16.799637</td>\n",
       "      <td>15.102637</td>\n",
       "      <td>15.171968</td>\n",
       "      <td>16.571692</td>\n",
       "      <td>17.609908</td>\n",
       "      <td>15.136186</td>\n",
       "      <td>12.695789</td>\n",
       "      <td>9.656315</td>\n",
       "    </tr>\n",
       "    <tr>\n",
       "      <th>3327</th>\n",
       "      <td>20250328</td>\n",
       "      <td>8.275332</td>\n",
       "      <td>16.547263</td>\n",
       "      <td>15.166903</td>\n",
       "      <td>13.274519</td>\n",
       "      <td>12.987643</td>\n",
       "      <td>14.276489</td>\n",
       "      <td>13.892388</td>\n",
       "      <td>14.049159</td>\n",
       "      <td>13.132417</td>\n",
       "      <td>...</td>\n",
       "      <td>14.582418</td>\n",
       "      <td>15.866909</td>\n",
       "      <td>16.649116</td>\n",
       "      <td>15.451931</td>\n",
       "      <td>14.937964</td>\n",
       "      <td>13.592484</td>\n",
       "      <td>13.377871</td>\n",
       "      <td>15.049390</td>\n",
       "      <td>13.396443</td>\n",
       "      <td>8.754059</td>\n",
       "    </tr>\n",
       "    <tr>\n",
       "      <th>3328</th>\n",
       "      <td>20250331</td>\n",
       "      <td>6.240361</td>\n",
       "      <td>14.713077</td>\n",
       "      <td>13.977764</td>\n",
       "      <td>14.859990</td>\n",
       "      <td>13.801839</td>\n",
       "      <td>14.690900</td>\n",
       "      <td>14.786897</td>\n",
       "      <td>15.316040</td>\n",
       "      <td>14.604102</td>\n",
       "      <td>...</td>\n",
       "      <td>14.901219</td>\n",
       "      <td>16.202915</td>\n",
       "      <td>18.884911</td>\n",
       "      <td>16.168056</td>\n",
       "      <td>16.626016</td>\n",
       "      <td>15.896119</td>\n",
       "      <td>15.149800</td>\n",
       "      <td>18.141270</td>\n",
       "      <td>13.981444</td>\n",
       "      <td>9.983689</td>\n",
       "    </tr>\n",
       "  </tbody>\n",
       "</table>\n",
       "<p>5 rows × 41 columns</p>\n",
       "</div>"
      ],
      "text/plain": [
       "          Date  Market Cap Decile1  Market Cap Decile2  Market Cap Decile3  \\\n",
       "3324  20250325            4.783326           14.888196           11.480323   \n",
       "3325  20250326            5.106118           10.530869           12.197545   \n",
       "3326  20250327            7.089191           15.782369           13.707288   \n",
       "3327  20250328            8.275332           16.547263           15.166903   \n",
       "3328  20250331            6.240361           14.713077           13.977764   \n",
       "\n",
       "      Market Cap Decile4  Market Cap Decile5  Market Cap Decile6  \\\n",
       "3324           14.764069           13.289801           13.306751   \n",
       "3325           14.065950           15.047847           14.448051   \n",
       "3326           15.309875           14.922006           14.986312   \n",
       "3327           13.274519           12.987643           14.276489   \n",
       "3328           14.859990           13.801839           14.690900   \n",
       "\n",
       "      Market Cap Decile7  Market Cap Decile8  Market Cap Decile9  ...  \\\n",
       "3324           14.715284           12.966304           13.312258  ...   \n",
       "3325           14.025409           14.353923           13.332430  ...   \n",
       "3326           14.524957           15.303156           13.520445  ...   \n",
       "3327           13.892388           14.049159           13.132417  ...   \n",
       "3328           14.786897           15.316040           14.604102  ...   \n",
       "\n",
       "      Volatility Decile1  Volatility Decile2  Volatility Decile3  \\\n",
       "3324           16.097937           14.899900           14.584242   \n",
       "3325           15.019312           17.710920           15.620423   \n",
       "3326           15.532377           19.344706           16.799637   \n",
       "3327           14.582418           15.866909           16.649116   \n",
       "3328           14.901219           16.202915           18.884911   \n",
       "\n",
       "      Volatility Decile4  Volatility Decile5  Volatility Decile6  \\\n",
       "3324           13.637641           13.270905           13.167269   \n",
       "3325           14.403542           14.189633           13.421478   \n",
       "3326           15.102637           15.171968           16.571692   \n",
       "3327           15.451931           14.937964           13.592484   \n",
       "3328           16.168056           16.626016           15.896119   \n",
       "\n",
       "      Volatility Decile7  Volatility Decile8  Volatility Decile9  \\\n",
       "3324           13.986714           15.655261           14.105550   \n",
       "3325           15.079622           15.078236           12.518201   \n",
       "3326           17.609908           15.136186           12.695789   \n",
       "3327           13.377871           15.049390           13.396443   \n",
       "3328           15.149800           18.141270           13.981444   \n",
       "\n",
       "      Volatility Decile10  \n",
       "3324             8.213032  \n",
       "3325             9.636699  \n",
       "3326             9.656315  \n",
       "3327             8.754059  \n",
       "3328             9.983689  \n",
       "\n",
       "[5 rows x 41 columns]"
      ]
     },
     "execution_count": 5,
     "metadata": {},
     "output_type": "execute_result"
    }
   ],
   "source": [
    "decile_to_cancel_raw.head()\n",
    "decile_to_cancel_raw.tail()                   #insight into what our data looks like "
   ]
  },
  {
   "cell_type": "markdown",
   "id": "389434b5",
   "metadata": {},
   "source": [
    "## EXPLORATORY DATA ANALYSIS AND DATA PRE-PROCESSING\n"
   ]
  },
  {
   "cell_type": "markdown",
   "id": "7d4f3cb3",
   "metadata": {},
   "source": [
    "I will utilise exploratory data analysis (EDA) to identify which decile has the most linear pattern in order to utilise my linear regression model.  \n",
    "This is to isolate only volatility and cancellation features for one set of independent and dependent variables. \n",
    "\n",
    "### ASSUMPTIONS OF LINEAR REGRESSION\n",
    "Let us investigate decile_1 to see if it is a good candidate to be modelled by linear regression. \n",
    "For this to be true, there must be:\n",
    "1) Strong negative or positive correlation\n",
    "2) Linearity in the data points\n",
    "3) Strong homoscedacity (data points maintian similar deviation throughtout all values of the independent variable)\n",
    "4) Normality of errors"
   ]
  },
  {
   "cell_type": "markdown",
   "id": "7d0e6cfa",
   "metadata": {},
   "source": [
    "#### Decile 1 and Linear Regression"
   ]
  },
  {
   "cell_type": "code",
   "execution_count": 6,
   "id": "f7df78df",
   "metadata": {},
   "outputs": [],
   "source": [
    "#Extracting features of market cap decile 1 \n",
    "#independent variable = volatility decile1 (deviation in the stock prices  in this decile for each date)\n",
    "#dependent varaible = market cap decile1 (the cancel to trade of stock each date for groups of 10 businesses in the lowest market capitalisation)\n",
    "decile_1 = decile_to_cancel_raw[[\"Market Cap Decile1\",\"Volatility Decile1\"]] "
   ]
  },
  {
   "cell_type": "code",
   "execution_count": 7,
   "id": "d4c61db5",
   "metadata": {},
   "outputs": [
    {
     "data": {
      "text/html": [
       "<div>\n",
       "<style scoped>\n",
       "    .dataframe tbody tr th:only-of-type {\n",
       "        vertical-align: middle;\n",
       "    }\n",
       "\n",
       "    .dataframe tbody tr th {\n",
       "        vertical-align: top;\n",
       "    }\n",
       "\n",
       "    .dataframe thead th {\n",
       "        text-align: right;\n",
       "    }\n",
       "</style>\n",
       "<table border=\"1\" class=\"dataframe\">\n",
       "  <thead>\n",
       "    <tr style=\"text-align: right;\">\n",
       "      <th></th>\n",
       "      <th>Market Cap Decile1</th>\n",
       "      <th>Volatility Decile1</th>\n",
       "    </tr>\n",
       "  </thead>\n",
       "  <tbody>\n",
       "    <tr>\n",
       "      <th>0</th>\n",
       "      <td>19.370006</td>\n",
       "      <td>22.905618</td>\n",
       "    </tr>\n",
       "    <tr>\n",
       "      <th>1</th>\n",
       "      <td>12.398751</td>\n",
       "      <td>23.468396</td>\n",
       "    </tr>\n",
       "    <tr>\n",
       "      <th>2</th>\n",
       "      <td>14.483334</td>\n",
       "      <td>23.116781</td>\n",
       "    </tr>\n",
       "    <tr>\n",
       "      <th>3</th>\n",
       "      <td>16.220823</td>\n",
       "      <td>25.298018</td>\n",
       "    </tr>\n",
       "    <tr>\n",
       "      <th>4</th>\n",
       "      <td>20.941537</td>\n",
       "      <td>26.421091</td>\n",
       "    </tr>\n",
       "  </tbody>\n",
       "</table>\n",
       "</div>"
      ],
      "text/plain": [
       "   Market Cap Decile1  Volatility Decile1\n",
       "0           19.370006           22.905618\n",
       "1           12.398751           23.468396\n",
       "2           14.483334           23.116781\n",
       "3           16.220823           25.298018\n",
       "4           20.941537           26.421091"
      ]
     },
     "execution_count": 7,
     "metadata": {},
     "output_type": "execute_result"
    }
   ],
   "source": [
    "decile_1.head() #what does our data look like"
   ]
  },
  {
   "cell_type": "code",
   "execution_count": 8,
   "id": "5a4d4ae5",
   "metadata": {},
   "outputs": [
    {
     "name": "stdout",
     "output_type": "stream",
     "text": [
      "Help on method rename in module pandas.core.frame:\n",
      "\n",
      "rename(\n",
      "    mapper: 'Renamer | None' = None,\n",
      "    *,\n",
      "    index: 'Renamer | None' = None,\n",
      "    columns: 'Renamer | None' = None,\n",
      "    axis: 'Axis | None' = None,\n",
      "    copy: 'bool | None' = None,\n",
      "    inplace: 'bool' = False,\n",
      "    level: 'Level | None' = None,\n",
      "    errors: 'IgnoreRaise' = 'ignore'\n",
      ") -> 'DataFrame | None' method of pandas.core.frame.DataFrame instance\n",
      "    Rename columns or index labels.\n",
      "\n",
      "    Function / dict values must be unique (1-to-1). Labels not contained in\n",
      "    a dict / Series will be left as-is. Extra labels listed don't throw an\n",
      "    error.\n",
      "\n",
      "    See the :ref:`user guide <basics.rename>` for more.\n",
      "\n",
      "    Parameters\n",
      "    ----------\n",
      "    mapper : dict-like or function\n",
      "        Dict-like or function transformations to apply to\n",
      "        that axis' values. Use either ``mapper`` and ``axis`` to\n",
      "        specify the axis to target with ``mapper``, or ``index`` and\n",
      "        ``columns``.\n",
      "    index : dict-like or function\n",
      "        Alternative to specifying axis (``mapper, axis=0``\n",
      "        is equivalent to ``index=mapper``).\n",
      "    columns : dict-like or function\n",
      "        Alternative to specifying axis (``mapper, axis=1``\n",
      "        is equivalent to ``columns=mapper``).\n",
      "    axis : {0 or 'index', 1 or 'columns'}, default 0\n",
      "        Axis to target with ``mapper``. Can be either the axis name\n",
      "        ('index', 'columns') or number (0, 1). The default is 'index'.\n",
      "    copy : bool, default True\n",
      "        Also copy underlying data.\n",
      "\n",
      "        .. note::\n",
      "            The `copy` keyword will change behavior in pandas 3.0.\n",
      "            `Copy-on-Write\n",
      "            <https://pandas.pydata.org/docs/dev/user_guide/copy_on_write.html>`__\n",
      "            will be enabled by default, which means that all methods with a\n",
      "            `copy` keyword will use a lazy copy mechanism to defer the copy and\n",
      "            ignore the `copy` keyword. The `copy` keyword will be removed in a\n",
      "            future version of pandas.\n",
      "\n",
      "            You can already get the future behavior and improvements through\n",
      "            enabling copy on write ``pd.options.mode.copy_on_write = True``\n",
      "    inplace : bool, default False\n",
      "        Whether to modify the DataFrame rather than creating a new one.\n",
      "        If True then value of copy is ignored.\n",
      "    level : int or level name, default None\n",
      "        In case of a MultiIndex, only rename labels in the specified\n",
      "        level.\n",
      "    errors : {'ignore', 'raise'}, default 'ignore'\n",
      "        If 'raise', raise a `KeyError` when a dict-like `mapper`, `index`,\n",
      "        or `columns` contains labels that are not present in the Index\n",
      "        being transformed.\n",
      "        If 'ignore', existing keys will be renamed and extra keys will be\n",
      "        ignored.\n",
      "\n",
      "    Returns\n",
      "    -------\n",
      "    DataFrame or None\n",
      "        DataFrame with the renamed axis labels or None if ``inplace=True``.\n",
      "\n",
      "    Raises\n",
      "    ------\n",
      "    KeyError\n",
      "        If any of the labels is not found in the selected axis and\n",
      "        \"errors='raise'\".\n",
      "\n",
      "    See Also\n",
      "    --------\n",
      "    DataFrame.rename_axis : Set the name of the axis.\n",
      "\n",
      "    Examples\n",
      "    --------\n",
      "    ``DataFrame.rename`` supports two calling conventions\n",
      "\n",
      "    * ``(index=index_mapper, columns=columns_mapper, ...)``\n",
      "    * ``(mapper, axis={'index', 'columns'}, ...)``\n",
      "\n",
      "    We *highly* recommend using keyword arguments to clarify your\n",
      "    intent.\n",
      "\n",
      "    Rename columns using a mapping:\n",
      "\n",
      "    >>> df = pd.DataFrame({\"A\": [1, 2, 3], \"B\": [4, 5, 6]})\n",
      "    >>> df.rename(columns={\"A\": \"a\", \"B\": \"c\"})\n",
      "       a  c\n",
      "    0  1  4\n",
      "    1  2  5\n",
      "    2  3  6\n",
      "\n",
      "    Rename index using a mapping:\n",
      "\n",
      "    >>> df.rename(index={0: \"x\", 1: \"y\", 2: \"z\"})\n",
      "       A  B\n",
      "    x  1  4\n",
      "    y  2  5\n",
      "    z  3  6\n",
      "\n",
      "    Cast index labels to a different type:\n",
      "\n",
      "    >>> df.index\n",
      "    RangeIndex(start=0, stop=3, step=1)\n",
      "    >>> df.rename(index=str).index\n",
      "    Index(['0', '1', '2'], dtype='object')\n",
      "\n",
      "    >>> df.rename(columns={\"A\": \"a\", \"B\": \"b\", \"C\": \"c\"}, errors=\"raise\")\n",
      "    Traceback (most recent call last):\n",
      "    KeyError: ['C'] not found in axis\n",
      "\n",
      "    Using axis-style parameters:\n",
      "\n",
      "    >>> df.rename(str.lower, axis='columns')\n",
      "       a  b\n",
      "    0  1  4\n",
      "    1  2  5\n",
      "    2  3  6\n",
      "\n",
      "    >>> df.rename({1: 2, 2: 4}, axis='index')\n",
      "       A  B\n",
      "    0  1  4\n",
      "    2  2  5\n",
      "    4  3  6\n",
      "\n"
     ]
    }
   ],
   "source": [
    "help(decile_1.rename) #help on how to rename columns "
   ]
  },
  {
   "cell_type": "code",
   "execution_count": 9,
   "id": "076def21",
   "metadata": {},
   "outputs": [],
   "source": [
    "decile_1 = decile_1.rename(columns={'Market Cap Decile1':'Cancellation rate','Volatility Decile1':'Volatility'})\n",
    "#renaming columns since we know we are in decile 1 of the decile_cancel_to_trade file"
   ]
  },
  {
   "cell_type": "markdown",
   "id": "5fd2b4ea",
   "metadata": {},
   "source": [
    "## Does decile 1 fit our assumptions?\n",
    "Let us see if our data for decile 1 fits our assumptions.    \n",
    "To test this, I will make a basic plot of the two features."
   ]
  },
  {
   "cell_type": "markdown",
   "id": "3dc0327c",
   "metadata": {},
   "source": [
    "### Linearity\n",
    "Plot our indepdent variable vs depedent variable as a scatterplot "
   ]
  },
  {
   "cell_type": "code",
   "execution_count": 10,
   "id": "54d494e2",
   "metadata": {},
   "outputs": [],
   "source": [
    "x_1= decile_1[['Cancellation rate']] #assigning columns to the variable x\n",
    "y_1 = decile_1[['Volatility']]        #assigning columns to the variable y"
   ]
  },
  {
   "cell_type": "code",
   "execution_count": 11,
   "id": "e5f70bbc",
   "metadata": {},
   "outputs": [
    {
     "data": {
      "image/png": "[encoded data removed]",
      "text/plain": [
       "<Figure size 640x480 with 1 Axes>"
      ]
     },
     "metadata": {},
     "output_type": "display_data"
    }
   ],
   "source": [
    "plot_linear = plt.scatter(y_1, x_1) #scatter plot of our two features for deile 1"
   ]
  },
  {
   "cell_type": "markdown",
   "id": "8bd63aba",
   "metadata": {},
   "source": [
    "From this plot we can see a few key details, namely: \n",
    "1) Our data has a few outliers.  \n",
    "2) Our data does follow a linear relationship with most values condensed around the centre point of the volatility scale.  \n",
    "3) The linearity is present but does not have a strong gradient meaning the volatility in decile 1 does not have much predictive power in regards to the cancellation rate. I will explore  different features for this model i.e different deciles. "
   ]
  },
  {
   "cell_type": "markdown",
   "id": "9a09ca9b",
   "metadata": {},
   "source": [
    "#### Decile 9 and Linear Regression"
   ]
  },
  {
   "cell_type": "code",
   "execution_count": 12,
   "id": "b797cd88",
   "metadata": {},
   "outputs": [],
   "source": [
    "#Extracting features of market cap decile 1 \n",
    "decile_9 = decile_to_cancel_raw[[\"Market Cap Decile9\",\"Volatility Decile9\"]] "
   ]
  },
  {
   "cell_type": "code",
   "execution_count": 13,
   "id": "601607ad",
   "metadata": {},
   "outputs": [],
   "source": [
    "y_2 = decile_9[['Market Cap Decile9']] #assigning columns to the variable x\n",
    "x_2 = decile_9[['Volatility Decile9']] #assigning columns to the variable x"
   ]
  },
  {
   "cell_type": "code",
   "execution_count": 14,
   "id": "8f46a485",
   "metadata": {},
   "outputs": [
    {
     "data": {
      "image/png": "[encoded data removed]",
      "text/plain": [
       "<Figure size 640x480 with 1 Axes>"
      ]
     },
     "metadata": {},
     "output_type": "display_data"
    }
   ],
   "source": [
    "plot_linear = plt.scatter(x_2, y_2) #scatter plot of our two features for decile 9"
   ]
  },
  {
   "cell_type": "markdown",
   "id": "f9eba6dc",
   "metadata": {},
   "source": [
    "From this plot we can see that:\n",
    "1) There is a strong positive linear relationship, therefore volatililty does have predictive power for cancellation rates. \n",
    "2) There is heteroscedacity in the raw data, therefore we may need to apply some kind of transformation to the data but I will make the regression model and then check for homoscedacity in the residuals. \n",
    "3) Interetsing though since this high heteroscedcaity indicates that as stock get more volatile purchasing decisions become more extreme. "
   ]
  },
  {
   "cell_type": "code",
   "execution_count": 15,
   "id": "07a54fa5",
   "metadata": {},
   "outputs": [],
   "source": [
    "decile_9 = decile_9.rename(columns={'Market Cap Decile9':'Cancellation rate','Volatility Decile9':'Volatility'})\n",
    "#renaming columns since we know we are in decile 9 of the cancel_to_trade file"
   ]
  },
  {
   "cell_type": "code",
   "execution_count": 16,
   "id": "d15b695c",
   "metadata": {},
   "outputs": [
    {
     "data": {
      "image/png": "[encoded data removed]",
      "text/plain": [
       "<Figure size 640x480 with 1 Axes>"
      ]
     },
     "metadata": {},
     "output_type": "display_data"
    }
   ],
   "source": [
    "plot_box = plt.boxplot(x_2) #creating a boxplot of our independent variable"
   ]
  },
  {
   "cell_type": "code",
   "execution_count": 17,
   "id": "c4a37975",
   "metadata": {},
   "outputs": [
    {
     "data": {
      "image/png": "[encoded data removed]",
      "text/plain": [
       "<Figure size 640x480 with 1 Axes>"
      ]
     },
     "metadata": {},
     "output_type": "display_data"
    }
   ],
   "source": [
    "plot_box = plt.boxplot(y_2) #creating a boxplot of our dependent variable"
   ]
  },
  {
   "cell_type": "markdown",
   "id": "51bc487a",
   "metadata": {},
   "source": [
    "From these plots we can see the presence of:\n",
    "1) A significant number of outliers outside the maximum range of the dataset.\n",
    "2) We will use the interquartile range method to impute these values."
   ]
  },
  {
   "cell_type": "markdown",
   "id": "28f083b8",
   "metadata": {},
   "source": [
    "## OUTLIER REMOVAL \n",
    "I will use the method of removing values above using upper and lower bounds based on quartiles. "
   ]
  },
  {
   "cell_type": "code",
   "execution_count": 18,
   "id": "5ec9b786",
   "metadata": {},
   "outputs": [
    {
     "name": "stdout",
     "output_type": "stream",
     "text": [
      "17.11805759573333\n",
      "21.84262918006664\n"
     ]
    }
   ],
   "source": [
    "#Step 1- compute Q1 and Q3\n",
    "#Cancellation rates \n",
    "Q1C = decile_9['Cancellation rate'].quantile(0.25) #quartile 1 of cancellation rates \n",
    "Q3C = decile_9['Cancellation rate'].quantile(0.75) ##quartile 3 of cancellation rates \n",
    "print(Q1C)\n",
    "print(Q3C)\n",
    "\n",
    "\n"
   ]
  },
  {
   "cell_type": "code",
   "execution_count": 19,
   "id": "5e5ed295",
   "metadata": {},
   "outputs": [
    {
     "name": "stdout",
     "output_type": "stream",
     "text": [
      "12.963150582121884\n",
      "16.28787304647947\n"
     ]
    }
   ],
   "source": [
    "#Volatiltiy \n",
    "Q1V = decile_9['Volatility'].quantile(0.25)         #quartile 1 of volatility  \n",
    "Q3V = decile_9['Volatility'].quantile(0.75)         #quartile 3 of volatility  \n",
    "print(Q1V)\n",
    "print(Q3V)"
   ]
  },
  {
   "cell_type": "code",
   "execution_count": null,
   "id": "5e67d941",
   "metadata": {},
   "outputs": [
    {
     "ename": "NameError",
     "evalue": "name 'IQR' is not defined",
     "output_type": "error",
     "traceback": [
      "\u001b[31m---------------------------------------------------------------------------\u001b[39m",
      "\u001b[31mNameError\u001b[39m                                 Traceback (most recent call last)",
      "\u001b[36mCell\u001b[39m\u001b[36m \u001b[39m\u001b[32mIn[20]\u001b[39m\u001b[32m, line 4\u001b[39m\n\u001b[32m      1\u001b[39m \u001b[38;5;66;03m#Step 2 - Compute IQR\u001b[39;00m\n\u001b[32m      2\u001b[39m \u001b[38;5;66;03m#Cancellation rate \u001b[39;00m\n\u001b[32m      3\u001b[39m IQRC = Q3C - Q1C\n\u001b[32m----> \u001b[39m\u001b[32m4\u001b[39m \u001b[38;5;28mprint\u001b[39m(\u001b[43mIQR\u001b[49m)\n",
      "\u001b[31mNameError\u001b[39m: name 'IQR' is not defined"
     ]
    }
   ],
   "source": [
    "#Step 2 - Compute IQR\n",
    "#Cancellation rate \n",
    "IQRC = Q3C - Q1C\n",
    "print(IQRC)"
   ]
  },
  {
   "cell_type": "code",
   "execution_count": null,
   "id": "b454be83",
   "metadata": {},
   "outputs": [],
   "source": [
    "#Volatility \n",
    "IQRV= Q3V -Q1V\n",
    "print(IQRV)"
   ]
  },
  {
   "cell_type": "code",
   "execution_count": null,
   "id": "f69c33e3",
   "metadata": {},
   "outputs": [],
   "source": [
    "#Step 3 - Find the upper bound and lower bound\n",
    "#Cancellation rate\n",
    "upper_b_Canc = Q3C + 1.5*IQRC\n",
    "print(upper_b_Canc)"
   ]
  },
  {
   "cell_type": "code",
   "execution_count": null,
   "id": "66ca90ca",
   "metadata": {},
   "outputs": [],
   "source": [
    "#Volatility \n",
    "upper_b_Vol = Q3V + 1.5*IQRV\n",
    "print(upper_b_Vol)"
   ]
  },
  {
   "cell_type": "code",
   "execution_count": null,
   "id": "85ce97ab",
   "metadata": {},
   "outputs": [],
   "source": [
    "#Number of outliers - https://www.analyticsvidhya.com/blog/2022/09/dealing-with-outliers-using-the-iqr-method/\n",
    "#Cancellation rate\n",
    "decile_9[decile_9['Cancellation rate'] > upper_b_Canc].count()\n",
    "print((70/3329)*100) #percentage of values to impute. Is not excessive ≈ 2%"
   ]
  },
  {
   "cell_type": "code",
   "execution_count": null,
   "id": "93ccce97",
   "metadata": {},
   "outputs": [],
   "source": [
    "#Volatility\n",
    "decile_9[decile_9['Volatility'] > upper_b_Vol].count()\n",
    "print((69/3329)*100) #percentage of values to impute. Is not excessive ≈ 2%"
   ]
  },
  {
   "cell_type": "markdown",
   "id": "50528f9a",
   "metadata": {},
   "source": [
    "### WINSORISATION \n",
    "A method of dealing with systematic outliers to maintain distribution of data. \n",
    "\n",
    "Through our EDA, I learned that our outliers are only present in  the upper tail , truncating them would remove information from the data and make our model have \n",
    "lower predictive power at the high end.   \n",
    "Therefore I will use Winsorisation to cap them  to the max of Q3 + 1.5*IQR - https://www.datacamp.com/tutorial/winsorized-mean"
   ]
  },
  {
   "cell_type": "code",
   "execution_count": null,
   "id": "0433763b",
   "metadata": {},
   "outputs": [],
   "source": [
    "\n",
    "#Cancellation rate \n",
    "decile_9['Cancellation rate'] = decile_9['Cancellation rate'].clip (upper = upper_b_Canc) #winsorising cancellation rate \n",
    "decile_9[decile_9['Cancellation rate'] > upper_b_Canc].count()  \n"
   ]
  },
  {
   "cell_type": "code",
   "execution_count": null,
   "id": "8e1cd9d4",
   "metadata": {},
   "outputs": [],
   "source": [
    "#Volatility\n",
    "decile_9['Volatility'] = decile_9['Volatility'].clip (upper = upper_b_Vol)                 #winsorising volatility  \n",
    "decile_9[decile_9['Volatility'] > upper_b_Vol].count()  "
   ]
  },
  {
   "cell_type": "code",
   "execution_count": null,
   "id": "b84447a6",
   "metadata": {},
   "outputs": [],
   "source": [
    "# New  values of x and y with Winsoration \n",
    "y_3 = decile_9[['Cancellation rate']]\n",
    "x_3 = decile_9[['Volatility']]"
   ]
  },
  {
   "cell_type": "code",
   "execution_count": null,
   "id": "788f6782",
   "metadata": {},
   "outputs": [],
   "source": [
    "plt.boxplot(x_3) #New boxplot of cancellation rate with Winsorisation"
   ]
  },
  {
   "cell_type": "code",
   "execution_count": null,
   "id": "0e715244",
   "metadata": {},
   "outputs": [],
   "source": [
    "plt.boxplot(y_3) #New boxplot of volatility with Winsorisation"
   ]
  },
  {
   "cell_type": "code",
   "execution_count": null,
   "id": "a52b6f07",
   "metadata": {},
   "outputs": [],
   "source": [
    "plt.hist(x_3)   #New histogram of Cancellation rate with Winsorisation"
   ]
  },
  {
   "cell_type": "code",
   "execution_count": null,
   "id": "6f2f7418",
   "metadata": {},
   "outputs": [],
   "source": [
    "plt.hist(y_3)   #New boxplot of Volatility with Winsorisation"
   ]
  },
  {
   "cell_type": "markdown",
   "id": "95779c56",
   "metadata": {},
   "source": [
    "Now that we have the pre-processed data with linearity and outliers handled we can  use our linear regression model."
   ]
  }
 ],
 "metadata": {
  "kernelspec": {
   "display_name": "Python (linreg)",
   "language": "python",
   "name": "linreg"
  },
  "language_info": {
   "codemirror_mode": {
    "name": "ipython",
    "version": 3
   },
   "file_extension": ".py",
   "mimetype": "text/x-python",
   "name": "python",
   "nbconvert_exporter": "python",
   "pygments_lexer": "ipython3",
   "version": "3.13.2"
  }
 },
 "nbformat": 4,
 "nbformat_minor": 5
}
